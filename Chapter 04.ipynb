{
 "cells": [
  {
   "cell_type": "markdown",
   "id": "ethical-option",
   "metadata": {},
   "source": [
    "# Abstract of airflow chapter 04"
   ]
  },
  {
   "cell_type": "markdown",
   "id": "solar-native",
   "metadata": {},
   "source": [
    "### Templating Tasks Using the Airflow Context"
   ]
  },
  {
   "cell_type": "markdown",
   "id": "right-wright",
   "metadata": {},
   "source": [
    "In this chapter we have in-depth coverage of what operators represent, what they are, how they function, and when and how they are executed. Besides these concepts, we demonstrate how operators can be used to communicate with remote systems via hooks, which allows you to perform tasks such as loading data into a database, running a command in a remote environment, and performing workloads somewhere else than in Airflow."
   ]
  },
  {
   "cell_type": "markdown",
   "id": "fifteen-disaster",
   "metadata": {},
   "source": [
    "### example used"
   ]
  },
  {
   "cell_type": "markdown",
   "id": "peaceful-commerce",
   "metadata": {},
   "source": [
    "For the purposes of this example, we will apply the axiom that an increase in a company’s pageviews shows a positive sentiment, and the company’s stock is likely to increase as well. On the other hand, a decrease in pageviews tells us a loss in interest, and the stock price is likely to decrease. We will use five companies amazon, apple, facebook, microsoft and google"
   ]
  },
  {
   "cell_type": "markdown",
   "id": "catholic-maintenance",
   "metadata": {},
   "source": [
    "<img src=\"./pic/CH04_pageviews.png\" width=\"800\">"
   ]
  },
  {
   "cell_type": "markdown",
   "id": "minor-sleeve",
   "metadata": {},
   "source": [
    "First step is to download the .zip file for every interval. The url is constructed of various date & time components:"
   ]
  },
  {
   "cell_type": "markdown",
   "id": "prime-julian",
   "metadata": {},
   "source": [
    "```html\n",
    "https://dumps.wikimedia.org/other/pageviews/{year}/{year}-{month}/pageviews-{year}{month}{day}- {hour}0000.gz\n",
    "```"
   ]
  },
  {
   "cell_type": "markdown",
   "id": "national-clause",
   "metadata": {},
   "source": [
    "There are many ways to download the pageviews; however, let’s focus on the BashOperator and PythonOperator. The method to insert variables at runtime in those operators can be generalized to all other operator types."
   ]
  },
  {
   "cell_type": "markdown",
   "id": "impressed-madness",
   "metadata": {},
   "source": [
    "```python\n",
    "import airflow.utils.dates\n",
    "from airflow import DAG\n",
    "from airflow.operators.bash import BashOperator\n",
    "\n",
    "dag = DAG( \n",
    "            dag_id=\"chapter4_stocksense_bashoperator\", \n",
    "            start_date=airflow.utils.dates.days_ago(3), \n",
    "            schedule_interval=\"@hourly\",\n",
    ")\n",
    "get_data = BashOperator( \n",
    "                        task_id=\"get_data\", \n",
    "                        bash_command=(\n",
    "\"curl -o /tmp/wikipageviews.gz \" \"https://dumps.wikimedia.org/other/pageviews/\"\n",
    "\"{{ execution_date.year }}/\" #A\n",
    "\"{{ execution_date.year }}-{{ '{:02}'.format(execution_date.month) }}/\" \"pageviews-{{ execution_date.year }}\"\n",
    "\"{{ '{:02}'.format(execution_date.month) }}\"\n",
    "\"{{ '{:02}'.format(execution_date.day) }}-\"\n",
    "\"{{ '{:02}'.format(execution_date.hour) }}0000.gz\" #B\n",
    "                                     ),\n",
    "dag=dag, )\n",
    "```"
   ]
  },
  {
   "cell_type": "markdown",
   "id": "approximate-perth",
   "metadata": {},
   "source": [
    "- #A Double curly braces denote a variable inserted at runtime \n",
    "- #B Any Python variable or expression can be provided"
   ]
  },
  {
   "cell_type": "markdown",
   "id": "substantial-cheat",
   "metadata": {},
   "source": [
    "The Wikipedia pageviews URL requires zero-padded months, days and hours (e.g. “07” for hour 7). Within the Jinja templated string we therefore apply string formatting for padding:"
   ]
  },
  {
   "cell_type": "markdown",
   "id": "worldwide-armstrong",
   "metadata": {},
   "source": [
    "``` python \n",
    "{{ '{:02}'.format(execution_date.hour) }} \n",
    "```"
   ]
  },
  {
   "cell_type": "markdown",
   "id": "fuzzy-nerve",
   "metadata": {},
   "source": [
    "The lib https://pendulum.eustace.io is easier than python datetime"
   ]
  },
  {
   "cell_type": "markdown",
   "id": "broad-canyon",
   "metadata": {},
   "source": [
    "It is important to know not all operator arguments are templatable! Every operator can keep a whitelist of attributes that are templatable. You can check the templatable attributes in the documentation: https://airflow.apache.org/docs, go to the operator of your choice and view the “template_fields” item. The following code shows all templates for python operator:"
   ]
  },
  {
   "cell_type": "markdown",
   "id": "apart-employment",
   "metadata": {},
   "source": [
    "``` python\n",
    "import airflow.utils.dates\n",
    "from airflow import DAG\n",
    "from airflow.operators.python import PythonOperator\n",
    "\n",
    "dag = DAG(\n",
    "            dag_id=\"chapter4_print_context\", \n",
    "            start_date=airflow.utils.dates.days_ago(3), \n",
    "            schedule_interval=\"@daily\",\n",
    "         )\n",
    "\n",
    "def _print_context(**kwargs):\n",
    "    print(kwargs)\n",
    "\n",
    "    print_context = PythonOperator( \n",
    "                                    task_id=\"print_context\", \n",
    "                                    python_callable=_print_context, \n",
    "                                    dag=dag,\n",
    "                                  )\n",
    "```"
   ]
  },
  {
   "cell_type": "markdown",
   "id": "ongoing-helicopter",
   "metadata": {},
   "source": [
    "<img src=\"./pic/CH04 task context var p1.png\" width=\"800\">"
   ]
  },
  {
   "cell_type": "markdown",
   "id": "stuffed-mouse",
   "metadata": {},
   "source": [
    "<img src=\"./pic/CH04 task context var p2.png\" width=\"800\">"
   ]
  },
  {
   "cell_type": "markdown",
   "id": "peaceful-settlement",
   "metadata": {},
   "source": [
    "<img src=\"./pic/CH04 task context var p3.png\" width=\"800\">"
   ]
  },
  {
   "cell_type": "markdown",
   "id": "positive-conversation",
   "metadata": {},
   "source": [
    "Python code to download the wiki count page"
   ]
  },
  {
   "cell_type": "markdown",
   "id": "worst-crawford",
   "metadata": {},
   "source": [
    "``` python\n",
    "from urllib import request\n",
    "import airflow\n",
    "from airflow import DAG\n",
    "from airflow.operators.python import PythonOperator\n",
    "\n",
    "dag = DAG(\n",
    "            dag_id=\"stocksense\", \n",
    "            start_date=airflow.utils.dates.days_ago(1), \n",
    "            schedule_interval=\"@hourly\",\n",
    "         )\n",
    "\n",
    "def _get_data(execution_date): #A\n",
    "    year, month, day, hour, *_ = execution_date.timetuple() url = (\n",
    "    \"https://dumps.wikimedia.org/other/pageviews/\" f\"{year}/{year}-{month:0>2}/pageviews-{year}{month:0>2}{day:0>2}-{hour:0>2}0000.gz\"\n",
    ")\n",
    "    \n",
    "output_path = \"/tmp/wikipageviews.gz\" request.urlretrieve(url, output_path)\n",
    "get_data = PythonOperator(task_id=\"get_data\", python_callable=_get_data, dag=dag) #A\n",
    " \n",
    "```"
   ]
  },
  {
   "cell_type": "markdown",
   "id": "paperback-jewel",
   "metadata": {},
   "source": [
    "The PythonOperator is an exception to the templating shown in Section 4.2.1. With the BashOperator (and all other operators in Airflow), you provide a string to the bash_command argument (or whatever the argument is named in other operators), which is automatically templated at runtime. The PythonOperator is an exception to this standard, because it doesn’t take arguments which can be templated with the runtime context, but instead a python_callable argument in which the runtime context can be applied."
   ]
  },
  {
   "cell_type": "markdown",
   "id": "liberal-fashion",
   "metadata": {},
   "source": [
    "<img src=\"./pic/CH04 pythonvarcontext.png\" width=\"800\">"
   ]
  },
  {
   "cell_type": "markdown",
   "id": "innovative-little",
   "metadata": {},
   "source": [
    "In Airflow 2, the PythonOperator determines which context variables must be passed along to your callable by inferring these from the callable argument names. It is therefore not required to set provide_context=True anymore:"
   ]
  },
  {
   "cell_type": "markdown",
   "id": "regular-commodity",
   "metadata": {},
   "source": [
    "```python\n",
    "PythonOperator( task_id=\"pass_context\", python_callable=_pass_context, dag=dag,) \n",
    "```"
   ]
  },
  {
   "cell_type": "markdown",
   "id": "danish-solution",
   "metadata": {},
   "source": [
    "The context variable is a dict of all context variables, which allows us to give our task different behaviour for the interval it runs in. For example, to print the start and end datetime of the current interval"
   ]
  },
  {
   "cell_type": "markdown",
   "id": "elegant-leader",
   "metadata": {},
   "source": [
    "```python\n",
    "def _print_context(**context):\n",
    "    \n",
    "    start = context[\"execution_date\"] #A \n",
    "    end = context[\"next_execution_date\"] \n",
    "    \n",
    "    print(f\"Start: {start}, end: {end}\")\n",
    "    print_context = PythonOperator(task_id=\"print_context\", \n",
    "                                   python_callable=_print_context, \n",
    "                                   dag=dag)\n",
    "```"
   ]
  },
  {
   "cell_type": "markdown",
   "id": "incorporate-papua",
   "metadata": {},
   "source": [
    "- #A extract the execution_date from the context"
   ]
  },
  {
   "cell_type": "markdown",
   "id": "roman-satisfaction",
   "metadata": {},
   "source": [
    "<img src=\"./pic/CH04 dissectionPythonoperator.png\" width=\"800\"> "
   ]
  },
  {
   "cell_type": "markdown",
   "id": "pharmaceutical-vegetarian",
   "metadata": {},
   "source": [
    "<img src=\"./pic/CH04**context.png\" width=\"800\"> "
   ]
  },
  {
   "cell_type": "markdown",
   "id": "hidden-arctic",
   "metadata": {},
   "source": [
    "The end result with this given example is that a keyword with name execution_date is passed along to the execution_date argument and all other variables are passed along to **context since they are not explicitly expected in the function signature"
   ]
  },
  {
   "cell_type": "markdown",
   "id": "lined-screw",
   "metadata": {},
   "source": [
    "<img src=\"./pic/CH04 kwargs.png\" width=\"800\"> "
   ]
  },
  {
   "cell_type": "markdown",
   "id": "distant-joseph",
   "metadata": {},
   "source": [
    "Now, we can directly use the execution_date variable instead of having to extract it from **context with context[\"execution_date\"]. In addition, your code will be more self-explanatory and tools such as linters and type hinting will benefit by the explicit argument definition"
   ]
  },
  {
   "cell_type": "markdown",
   "id": "simplified-cigarette",
   "metadata": {},
   "source": [
    "How to use external variables inside the python functions? We have two options: op_kwargs and op_args:"
   ]
  },
  {
   "cell_type": "markdown",
   "id": "institutional-contribution",
   "metadata": {},
   "source": [
    "```python\n",
    "get_data = PythonOperator(\n",
    "                            task_id=\"get_data\",\n",
    "                            python_callable=_get_data, \n",
    "                            op_args=[\"/tmp/wikipageviews.gz\"], #A \n",
    "                            dag=dag,\n",
    "                         )\n",
    "```"
   ]
  },
  {
   "cell_type": "markdown",
   "id": "executive-wichita",
   "metadata": {},
   "source": [
    "```python\n",
    "get_data = PythonOperator(\n",
    "                            task_id=\"get_data\",\n",
    "                            op_kwargs={\"output_path\": \"/tmp/wikipageviews.gz\"}, #A dag=dag,\n",
    ")\n",
    "```"
   ]
  },
  {
   "cell_type": "markdown",
   "id": "liberal-desktop",
   "metadata": {},
   "source": [
    "Note these values can contain strings and thus can be templated! That means we could avoid extracting the datetime components inside the callable function itself and instead pass templated strings to our callable function"
   ]
  },
  {
   "cell_type": "markdown",
   "id": "coordinated-consortium",
   "metadata": {},
   "source": [
    "```python\n",
    "def _get_data(year, month, day, hour, output_path, **_):\n",
    "    \n",
    "    url = (\n",
    "\"https://dumps.wikimedia.org/other/pageviews/\" f\"{year}/{year}-{month:0>2}/pageviews-{year}{month:0>2}{day:0>2}-{hour:0>2}0000.gz\"\n",
    "          )\n",
    "    \n",
    "    request.urlretrieve(url, output_path)\n",
    "    get_data = PythonOperator(task_id=\"get_data\", \n",
    "                              python_callable=_get_data, \n",
    "                              op_kwargs={ \"year\": \"{{ execution_date.year }}\", #A \n",
    "                                         \"month\": \"{{ execution_date.month }}\", \n",
    "                                         \"day\": \"{{ execution_date.day }}\", \n",
    "                                         \"hour\": \"{{ execution_date.hour }}\", \n",
    "                                         \"output_path\": \"/tmp/wikipageviews.gz\",},\n",
    "                              dag=dag, )\n",
    "```"
   ]
  },
  {
   "cell_type": "markdown",
   "id": "thrown-cleaner",
   "metadata": {},
   "source": [
    "- #A User-defined keyword arguments are templated before passing to the callable"
   ]
  },
  {
   "cell_type": "markdown",
   "id": "saving-framing",
   "metadata": {},
   "source": [
    "The airflow GUI allows us to see the templates used:"
   ]
  },
  {
   "cell_type": "markdown",
   "id": "architectural-moderator",
   "metadata": {},
   "source": [
    "<img src=\"./pic/CH04 airflowGUItemplate.png\" width=\"800\"> "
   ]
  },
  {
   "cell_type": "markdown",
   "id": "economic-audit",
   "metadata": {},
   "source": [
    "or using the command:"
   ]
  },
  {
   "cell_type": "markdown",
   "id": "positive-marine",
   "metadata": {},
   "source": [
    "```bash\n",
    "airflow tasks render stocksense get_data 2019-07-19T00:00:00\n",
    "```"
   ]
  },
  {
   "cell_type": "markdown",
   "id": "elementary-survivor",
   "metadata": {},
   "source": [
    "To save data inside some DB we need to download its provider"
   ]
  },
  {
   "cell_type": "markdown",
   "id": "median-flavor",
   "metadata": {},
   "source": [
    "```bash\n",
    "pip install apache-airflow-providers-postgres\n",
    "```"
   ]
  },
  {
   "cell_type": "markdown",
   "id": "employed-bottom",
   "metadata": {},
   "source": [
    "we cant write directly in the database with postgresql operator, then we write the sql to insert, after that we create"
   ]
  },
  {
   "cell_type": "markdown",
   "id": "damaged-respect",
   "metadata": {},
   "source": [
    "```python\n",
    "def _fetch_pageviews(pagenames, execution_date, **_): result = dict.fromkeys(pagenames, 0) #A\n",
    "\n",
    "    with open(\"/tmp/wikipageviews\", \"r\") as f:\n",
    "        for line in f:\n",
    "            domain_code, page_title, view_counts, _ = line.split(\" \")\n",
    "                if domain_code == \"en\" and page_title in pagenames: result[page_title] = view_counts #B\n",
    "    with open(\"/tmp/postgres_query.sql\", \"w\") as f:\n",
    "        for pagename, pageviewcount in result.items(): #C\n",
    "            f.write(\n",
    "                \"INSERT INTO pageview_counts VALUES (\" f\"'{pagename}', {pageviewcount}, '{execution_date}'\" \");\\n\"\n",
    "            )\n",
    "            \n",
    "fetch_pageviews = PythonOperator(\n",
    "    task_id=\"fetch_pageviews\",\n",
    "    python_callable=_fetch_pageviews,\n",
    "    op_kwargs={\"pagenames\": {\"Google\", \"Amazon\", \"Apple\", \"Microsoft\", \"Facebook\"}}, \n",
    "    dag=dag,\n",
    ")\n",
    "```"
   ]
  },
  {
   "cell_type": "markdown",
   "id": "imperial-composite",
   "metadata": {},
   "source": [
    "- #A Initialize result for all pageviews with 0 \n",
    "- #B Scan over pageviews\n",
    "- #C For each result, write SQL query"
   ]
  },
  {
   "cell_type": "markdown",
   "id": "threatened-values",
   "metadata": {},
   "source": [
    "Calling the postgresql operator:"
   ]
  },
  {
   "cell_type": "markdown",
   "id": "legislative-municipality",
   "metadata": {},
   "source": [
    "``` python\n",
    "from airflow.providers.postgres.operators.postgres import PostgresOperator\n",
    "\n",
    "dag = DAG(..., template_searchpath=\"/tmp\")\n",
    "\n",
    "write_to_postgres = PostgresOperator( \n",
    "                                     task_id=\"write_to_postgres\", \n",
    "                                     postgres_conn_id=\"my_postgres\", #A \n",
    "                                     sql=\"postgres_query.sql\", #B dag=dag,\n",
    "                                    )\n",
    "```"
   ]
  },
  {
   "cell_type": "markdown",
   "id": "virgin-respondent",
   "metadata": {},
   "source": [
    "- #A Identifier to credentials to use for connection \n",
    "- #B SQL query or path to file containing SQL queries"
   ]
  },
  {
   "cell_type": "markdown",
   "id": "material-metabolism",
   "metadata": {},
   "source": [
    "The PostgresOperator requires filling in only two arguments to run a query against a Postgres database. Intricate operations such as setting up a connection to the database and closing it after completion are handled under the hood. The postgres_conn_id argument points to an identifier holding the credentials to the Postgres database. Airflow can manage such credentials (stored encrypted in the metastore), and operators can fetch one of the credentials when required. Without going into details yet, we can add the “my_postgres” connection in Airflow with the help of the CLI:"
   ]
  },
  {
   "cell_type": "markdown",
   "id": "downtown-reward",
   "metadata": {},
   "source": [
    "```bash\n",
    "airflow connections add \\ \n",
    "--conn-type postgres \\\n",
    "--conn-host localhost \\ \n",
    "--conn-login postgres \\ \n",
    "--conn-password mysecretpassword \\ \n",
    "my_postgres #A\n",
    "```"
   ]
  },
  {
   "cell_type": "markdown",
   "id": "horizontal-bracelet",
   "metadata": {},
   "source": [
    "- #A The connection identifier"
   ]
  },
  {
   "cell_type": "markdown",
   "id": "quantitative-winner",
   "metadata": {},
   "source": [
    "<img src=\"./pic/ch04connexionGUI.png\" width=\"800\"> "
   ]
  },
  {
   "cell_type": "markdown",
   "id": "superb-norwegian",
   "metadata": {},
   "source": [
    "The PostgresOperator will instantiate a so-called Hook to communicate with Postgres. The hook deals with creating a connection, sending queries to Postgres and closing the connection afterwards. The operator is merely passing through the request from the user to the hook in this situation."
   ]
  },
  {
   "cell_type": "markdown",
   "id": "designed-hypothetical",
   "metadata": {},
   "source": [
    "<img src=\"./pic/CH04 postgresqloperator.png\" width=\"800\"> "
   ]
  },
  {
   "cell_type": "code",
   "execution_count": null,
   "id": "mobile-cemetery",
   "metadata": {},
   "outputs": [],
   "source": []
  },
  {
   "cell_type": "code",
   "execution_count": null,
   "id": "level-comparison",
   "metadata": {},
   "outputs": [],
   "source": []
  },
  {
   "cell_type": "code",
   "execution_count": null,
   "id": "generous-point",
   "metadata": {},
   "outputs": [],
   "source": []
  },
  {
   "cell_type": "code",
   "execution_count": null,
   "id": "micro-activation",
   "metadata": {},
   "outputs": [],
   "source": []
  }
 ],
 "metadata": {
  "kernelspec": {
   "display_name": "Python 3",
   "language": "python",
   "name": "python3"
  },
  "language_info": {
   "codemirror_mode": {
    "name": "ipython",
    "version": 3
   },
   "file_extension": ".py",
   "mimetype": "text/x-python",
   "name": "python",
   "nbconvert_exporter": "python",
   "pygments_lexer": "ipython3",
   "version": "3.6.6"
  }
 },
 "nbformat": 4,
 "nbformat_minor": 5
}
