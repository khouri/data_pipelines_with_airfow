{
 "cells": [
  {
   "cell_type": "markdown",
   "id": "personalized-jesus",
   "metadata": {},
   "source": [
    "# Abstract of airflow chapter 02"
   ]
  },
  {
   "cell_type": "markdown",
   "id": "static-spectacular",
   "metadata": {},
   "source": [
    "### Anatomy of an Airflow DAG"
   ]
  },
  {
   "cell_type": "markdown",
   "id": "missing-petersburg",
   "metadata": {},
   "source": [
    "In this chapter we implement a simple pipeline wich download rocket images, save and notify the dowload in the bash"
   ]
  },
  {
   "cell_type": "markdown",
   "id": "aboriginal-aberdeen",
   "metadata": {},
   "source": [
    "<img src=\"./pic/CH_02_rocket_download_pipeline.png\" width=\"800\">"
   ]
  },
  {
   "cell_type": "markdown",
   "id": "answering-professor",
   "metadata": {},
   "source": [
    "we can see one posible solucion to this using airflow dag:"
   ]
  },
  {
   "cell_type": "markdown",
   "id": "educated-chance",
   "metadata": {},
   "source": [
    "```python\n",
    "import json\n",
    "import pathlib\n",
    "import airflow\n",
    "import requests\n",
    "import requests.exceptions as requests_exceptions from airflow import DAG\n",
    "from airflow.operators.bash import BashOperator from airflow.operators.python import PythonOperator\n",
    "dag = DAG( #A\n",
    "            dag_id=\"download_rocket_launches\", #B \n",
    "            start_date=airflow.utils.dates.days_ago(14), #C \n",
    "            schedule_interval=None, #D\n",
    "         )\n",
    "\n",
    "download_launches = BashOperator( #E \n",
    "    task_id=\"download_launches\", #F \n",
    "    bash_command=\"curl -o /tmp/launches.json -L 'https://ll.thespacedevs.com/2.0.0/launch/upcoming'\", \n",
    "    dag=dag,\n",
    " )\n",
    "\n",
    "def _get_pictures(): #G\n",
    "    # Ensure directory exists pathlib.Path(\"/tmp/images\").mkdir(parents=True, exist_ok=True)\n",
    "    # Download all pictures in launches.json\n",
    "    with open(\"/tmp/launches.json\") as f:\n",
    "        launches = json.load(f)\n",
    "        image_urls = [launch[\"image\"] for launch in launches[\"results\"]] for image_url in image_urls:\n",
    "        try:\n",
    "            response = requests.get(image_url) \n",
    "            image_filename = image_url.split(\"/\")[-1] \n",
    "            target_file = f\"/tmp/images/{image_filename}\" \n",
    "            \n",
    "            with open(target_file, \"wb\") as f:\n",
    "                f.write(response.content)\n",
    "                print(f\"Downloaded {image_url} to {target_file}\")\n",
    "                \n",
    "        except requests_exceptions.MissingSchema: \n",
    "            print(f\"{image_url} appears to be an invalid URL.\")\n",
    "        except requests_exceptions.ConnectionError: \n",
    "            print(f\"Could not connect to {image_url}.\")\n",
    "            \n",
    "get_pictures = PythonOperator( #H \n",
    "                                task_id=\"get_pictures\", \n",
    "                                python_callable=_get_pictures, #H \n",
    "                                dag=dag,\n",
    "                                )\n",
    "\n",
    "notify = BashOperator(\n",
    "                        task_id=\"notify\",\n",
    "                        bash_command='echo \"There are now $(ls /tmp/images/ | wc -l) images.\"', \n",
    "                        dag=dag,\n",
    ")\n",
    "\n",
    "download_launches >> get_pictures >> notify #I    \n",
    "```"
   ]
  },
  {
   "cell_type": "markdown",
   "id": "challenging-footwear",
   "metadata": {},
   "source": [
    "And the explanation of the structure:"
   ]
  },
  {
   "cell_type": "markdown",
   "id": "irish-thirty",
   "metadata": {},
   "source": [
    "- #A Instantiate a DAG object - this is the starting point of any workflow \n",
    "- #B The name of the DAG\n",
    "- #C The date at which the DAG should first start running\n",
    "- #D At what interval the DAG should run\n",
    "- #E Apply Bash to download the URL response with curl\n",
    "- #F The name of the task\n",
    "- #G A Python function will parse the response and download all rocket pictures #H Call the Python function in the DAG with a PythonOperator\n",
    "- #I Set the order of execution of tasks"
   ]
  },
  {
   "cell_type": "code",
   "execution_count": null,
   "id": "judicial-courage",
   "metadata": {},
   "outputs": [],
   "source": []
  },
  {
   "cell_type": "markdown",
   "id": "relevant-queensland",
   "metadata": {},
   "source": [
    "Tasks in Airflow manage the execution of an Operator; they can be thought of as a small “wrapper” or “manager” around an operator that ensures the operator executes correctly. The user can focus on the work to be done by using operators, while Airflow ensures correct execution of the work via tasks:"
   ]
  },
  {
   "cell_type": "markdown",
   "id": "engaged-incentive",
   "metadata": {},
   "source": [
    "<img src=\"./pic/CH02_taskoperators.png\" width=\"800\">"
   ]
  },
  {
   "cell_type": "markdown",
   "id": "decreased-gibson",
   "metadata": {},
   "source": [
    "The PythonOperator in Airflow is responsible for running any Python code. Just like the BashOperator used before, this and all other operators require a task_id. The task_id is referenced when running a task and displayed in the UI. The use of a PythonOperator is always twofold:\n",
    "- We define the operator itself (get_pictures) and\n",
    "- The python_callable argument points to a callable, typically a function (_get_pictures)"
   ]
  },
  {
   "cell_type": "markdown",
   "id": "outer-italy",
   "metadata": {},
   "source": [
    "<img src=\"./pic/CH02_operator_callable.png\" width=\"800\">"
   ]
  },
  {
   "cell_type": "code",
   "execution_count": null,
   "id": "clear-organization",
   "metadata": {},
   "outputs": [],
   "source": []
  },
  {
   "cell_type": "markdown",
   "id": "successful-treatment",
   "metadata": {},
   "source": [
    "#### Installation process and running the DAG "
   ]
  },
  {
   "cell_type": "markdown",
   "id": "miniature-horizontal",
   "metadata": {},
   "source": [
    "Now we have our basic rocket launch DAG, let’s get it up and running and view it in the Airflow UI. The bare minimum Airflow consists of three core components: (1) a scheduler, (2) a webserver, and (3) a database. In order to get Airflow up and running, you can install Airflow either in your Python environment or run a Docker container. First install inside your pyenv with the command:"
   ]
  },
  {
   "cell_type": "markdown",
   "id": "casual-station",
   "metadata": {},
   "source": [
    "``` python\n",
    "pip install apache-airflow\n",
    "\n",
    "```"
   ]
  },
  {
   "cell_type": "markdown",
   "id": "magnetic-nursing",
   "metadata": {},
   "source": [
    "After that we need to start the airflow server, database, and scheduler with the commands:"
   ]
  },
  {
   "cell_type": "markdown",
   "id": "exciting-jurisdiction",
   "metadata": {},
   "source": [
    "```bash\n",
    "1. airflow db init\n",
    "2. airflow users create --username admin --password admin --firstname Anonymous --lastname Admin --role Admin --email admin@example.org\n",
    "3. cp download_rocket_launches.py ~/airflow/dags/\n",
    "4. airflow webserver &\n",
    "5. airflow scheduler &\n",
    "```"
   ]
  },
  {
   "cell_type": "markdown",
   "id": "short-thing",
   "metadata": {},
   "source": [
    "After that we can type http://localhost:8080 in firefox, and login with username “admin” and password “admin” to view Airflow."
   ]
  },
  {
   "cell_type": "markdown",
   "id": "above-correlation",
   "metadata": {},
   "source": [
    "The other sections of this chapter is some kind of presentation of airflow webserver"
   ]
  },
  {
   "cell_type": "code",
   "execution_count": null,
   "id": "specialized-explorer",
   "metadata": {},
   "outputs": [],
   "source": []
  }
 ],
 "metadata": {
  "kernelspec": {
   "display_name": "Python 3",
   "language": "python",
   "name": "python3"
  },
  "language_info": {
   "codemirror_mode": {
    "name": "ipython",
    "version": 3
   },
   "file_extension": ".py",
   "mimetype": "text/x-python",
   "name": "python",
   "nbconvert_exporter": "python",
   "pygments_lexer": "ipython3",
   "version": "3.6.6"
  }
 },
 "nbformat": 4,
 "nbformat_minor": 5
}
